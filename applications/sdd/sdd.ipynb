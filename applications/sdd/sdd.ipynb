{
 "cells": [
  {
   "cell_type": "code",
   "execution_count": null,
   "metadata": {},
   "outputs": [],
   "source": []
  }
 ],
 "metadata": {
  "kernelspec": {
   "display_name": "Python 3.8.10 ('venv': venv)",
   "language": "python",
   "name": "python3"
  },
  "language_info": {
   "name": "python",
   "version": "3.8.10"
  },
  "orig_nbformat": 4,
  "vscode": {
   "interpreter": {
    "hash": "c6ddabc1d2656b6cb1d21b08bfdbca1f59c8095544f9b637dd0969fa6a4e8f83"
   }
  }
 },
 "nbformat": 4,
 "nbformat_minor": 2
}
