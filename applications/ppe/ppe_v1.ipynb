{
 "cells": [
  {
   "cell_type": "code",
   "execution_count": 6,
   "metadata": {},
   "outputs": [
    {
     "name": "stdout",
     "output_type": "stream",
     "text": [
      "file exist\n"
     ]
    }
   ],
   "source": [
    "'''\n",
    "Wafer Pose Estimation Test\n",
    "'''\n",
    "\n",
    "from genericpath import isfile\n",
    "import cv2\n",
    "from cv2 import COLOR_GRAY2BGR\n",
    "import numpy as np\n",
    "from cv2 import COLOR_RGB2GRAY\n",
    "import os\n",
    "from pyppe.estimator import estimator\n",
    "        \n",
    "\n",
    "if __name__ == \"__main__\":\n",
    "\n",
    "    # video file\n",
    "    filename = \"100h_300v_300a_200w_30i_50fps_dark_-11.avi\"\n",
    "    filepath = os.path.join(\"./data\", filename)\n",
    "\n",
    "    if os.path.isfile(filepath):\n",
    "        ppe_2d = estimator(filepath)\n",
    "        ppe_2d_result = ppe_2d.estimate_pos_2d()\n",
    "    \n",
    "\n",
    "\n",
    "\n",
    "    h, w, _ = raw.shape\n",
    "    mtx = np.matrix([[2517.792, 0., 814.045],[0., 2514.767, 567.330],[0., 0., 1.]])\n",
    "    dist = np.matrix([[-0.361044, 0.154482, 0.000808, 0.000033, 0.]])\n",
    "    newcameramtx, roi = cv2.getOptimalNewCameraMatrix(mtx,dist,(w,h),0,(w,h))\n",
    "\n",
    "    # maker parameters\n",
    "    markerdict = cv2.aruco.Dictionary_get(cv2.aruco.DICT_4X4_250)\n",
    "    markerparams = cv2.aruco.DetectorParameters_create()\n",
    "\n",
    "    raw_gray = cv2.cvtColor(raw, cv2.COLOR_BGR2GRAY) # convert to grayscale\n",
    "    raw_gray = cv2.undistort(raw_gray, mtx, dist, None, newcameramtx)\n",
    "    raw_color = cv2.cvtColor(raw_gray, cv2.COLOR_GRAY2BGR) # convert to grayscale\n",
    "\n",
    "    while True:\n",
    "\n",
    "        raw = cv2.imread(\"../data/iaepyppe/data/x-1.0.jpg\")\n",
    "        raw_gray = cv2.cvtColor(raw, cv2.COLOR_BGR2GRAY) # convert to grayscale\n",
    "        #raw_gray = cv2.bilateralFilter(raw_gray, 3, 5, 3)\n",
    "        _, raw_gray = cv2.threshold(raw_gray, 0, 255, cv2.THRESH_BINARY+cv2.THRESH_OTSU)\n",
    "        \n",
    "\n",
    "        # undistortion by camera matrix\n",
    "        raw_gray = cv2.undistort(raw_gray, mtx, dist, None, newcameramtx)\n",
    "        raw_color = cv2.cvtColor(raw_gray, cv2.COLOR_GRAY2BGR) # convert to grayscale\n",
    "\n",
    "        # show origin point\n",
    "        cv2.line(raw_color, (814-100,567), (814+100,567), (0,0,255), 1, cv2.LINE_AA)\n",
    "        cv2.line(raw_color, (814,567-100), (814,567+100), (0,0,255), 1, cv2.LINE_AA)\n",
    "\n",
    "        # find markers\n",
    "        corners, ids, rejected = cv2.aruco.detectMarkers(raw_gray, markerdict, parameters=markerparams)\n",
    "        if len(corners) > 0:\n",
    "            for i in range(0, len(ids)):\n",
    "                rvec, tvec, markerPoints = cv2.aruco.estimatePoseSingleMarkers(corners[i], 0.04, mtx, dist)\n",
    "                \n",
    "                if ids[i] == 32:\n",
    "                    print(\"{}\\tX : {}\\tY : {}\\tZ : {}\".format(ids[i], tvec.reshape(-1)[0]*100, tvec.reshape(-1)[1]*100, tvec.reshape(-1)[2]*100))\n",
    "\n",
    "                (topLeft, topRight, bottomRight, bottomLeft) = corners[i].reshape((4,2))\n",
    "                topRight = (int(topRight[0]), int(topRight[1]))\n",
    "                bottomRight = (int(bottomRight[0]), int(bottomRight[1]))\n",
    "                bottomLeft = (int(bottomLeft[0]), int(bottomLeft[1]))\n",
    "                topLeft = (int(topLeft[0]), int(topLeft[1]))\n",
    "\n",
    "                cX = int((topLeft[0] + bottomRight[0]) / 2.0)\n",
    "                cY = int((topLeft[1] + bottomRight[1]) / 2.0)\n",
    "                cv2.circle(raw_color, (cX, cY), 4, (0, 0, 255), -1)\n",
    "\n",
    "                cv2.aruco.drawDetectedMarkers(raw_color, corners) \n",
    "                cv2.aruco.drawAxis(raw_color, mtx, dist, rvec, tvec, 0.01) \n",
    "                cv2.putText(raw_color, str(ids[i]),(topLeft[0], topLeft[1] - 15), cv2.FONT_HERSHEY_SIMPLEX, 0.5, (255, 0, 0), 2)\n",
    "        \n",
    "\n",
    "        cv2.imshow(\"Detected Marker\",raw_color)\n",
    "\n",
    "\n",
    "        key = cv2.waitKey(1)\n",
    "        if key == 27:\n",
    "            cv2.destroyAllWindows()\n",
    "            break"
   ]
  }
 ],
 "metadata": {
  "kernelspec": {
   "display_name": "Python 3.9.13 ('base')",
   "language": "python",
   "name": "python3"
  },
  "language_info": {
   "codemirror_mode": {
    "name": "ipython",
    "version": 3
   },
   "file_extension": ".py",
   "mimetype": "text/x-python",
   "name": "python",
   "nbconvert_exporter": "python",
   "pygments_lexer": "ipython3",
   "version": "3.9.13"
  },
  "orig_nbformat": 4,
  "vscode": {
   "interpreter": {
    "hash": "40d3a090f54c6569ab1632332b64b2c03c39dcf918b08424e98f38b5ae0af88f"
   }
  }
 },
 "nbformat": 4,
 "nbformat_minor": 2
}
