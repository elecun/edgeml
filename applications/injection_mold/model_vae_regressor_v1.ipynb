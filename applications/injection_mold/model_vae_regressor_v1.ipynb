{
 "cells": [
  {
   "cell_type": "code",
   "execution_count": null,
   "metadata": {},
   "outputs": [],
   "source": [
    "'''\n",
    "Import dependent packages & setup environments\n",
    "'''\n",
    "import pandas as pd\n",
    "import numpy as np\n",
    "\n",
    "\n",
    "pd.set_option('display.max.colwidth', 50)\n",
    "pd.set_option('display.width', 1000)\n",
    "\n",
    "'''\n",
    "Load Data \n",
    "'''\n",
    "# Materials to use\n",
    "materials = [\"PC\", \"PA66\", \"ABS\", \"PCSMOG\", \"TPU\"]\n",
    "\n",
    "# Load raw dataset\n",
    "raw_dataset = pd.read_excel('../../data/iae/injection_mold_5000_v1.xlsx', header=0, index_col=False)\n",
    "print(\"> Raw Dataset Size : {}\".format(len(raw_dataset)))\n",
    "\n",
    "# Featureset\n",
    "feature_set = [\"weight\", \"failure\", \"material\", \"set_nozzle_temperature\", \"set_front_temperature\", \"set_intermediate_temperature\", \"set_rear_temperature\", \"set_mold_velocity_1\", \"set_mold_velocity_2\", \"set_mold_velocity_3\", \"set_mold_velocity_4\", \"set_mold_velocity_5\", \"set_mold_pressure_1\", \"set_mold_pressure_2\", \"set_mold_pressure_3\", \"set_mold_pressure_4\", \"set_mold_pressure_5\", \"set_mold_position_1\", \"set_mold_position_2\", \"set_mold_position_3\", \"set_mold_position_4\", \"set_mold_position_5\", \"set_hold_velocity_1\", \"set_hold_velocity_2\", \"set_hold_velocity_3\", \"set_hold_pressure_1\", \"set_hold_pressure_2\", \"set_hold_pressure_3\"]\n",
    "print(\"> Selected Featureset Size : {}\".format(len(feature_set)))\n",
    "\n",
    "raw_dataset = raw_dataset[[\"weight\", \"failure\", \"material\", \"set_nozzle_temperature\", \"set_front_temperature\", \"set_intermediate_temperature\", \"set_rear_temperature\", \"set_mold_velocity_1\", \"set_mold_velocity_2\", \"set_mold_velocity_3\", \"set_mold_velocity_4\", \"set_mold_velocity_5\", \"set_mold_pressure_1\", \"set_mold_pressure_2\", \"set_mold_pressure_3\", \"set_mold_pressure_4\", \"set_mold_pressure_5\", \"set_mold_position_1\", \"set_mold_position_2\", \"set_mold_position_3\", \"set_mold_position_4\", \"set_mold_position_5\", \"set_hold_velocity_1\", \"set_hold_velocity_2\", \"set_hold_velocity_3\", \"set_hold_pressure_1\", \"set_hold_pressure_2\", \"set_hold_pressure_3\"]]\n",
    "\n",
    "# One-hot Encoding\n",
    "raw_dataset_onehot = pd.get_dummies(raw_dataset)\n",
    "print(\"> Encoded Dataset Size : {}\".format(len(raw_dataset_onehot.columns)))\n",
    "\n",
    "''' \n",
    "Data separation for each materials\n",
    "'''\n",
    "# for PC\n",
    "#pc_dataset = raw_dataset.loc[raw_dataset['material'] == \"PC\"][[\"weight\", \"failure\"]].dropna()\n",
    "pc_dataset = raw_dataset.where(raw_dataset['material'] == \"PC\").dropna()\n",
    "pc_dataset_positive = pc_dataset.where(pc_dataset[\"failure\"]==0).dropna()\n",
    "pc_dataset_negative = pc_dataset.where((pc_dataset[\"failure\"]==1) | (pc_dataset[\"failure\"]==2) | (pc_dataset[\"failure\"]==3)).dropna()\n",
    "\n",
    "# for pc66\n",
    "#pa66_dataset = raw_dataset.loc[raw_dataset['material'] == \"PA66\"][[\"weight\", \"failure\"]].dropna()\n",
    "pa66_dataset = raw_dataset.where(raw_dataset['material'] == \"PA66\").dropna()\n",
    "pa66_dataset_positive = pa66_dataset.where(pa66_dataset[\"failure\"]==0).dropna()\n",
    "pa66_dataset_negative = pa66_dataset.where((pa66_dataset[\"failure\"]==1) | (pa66_dataset[\"failure\"]==2) | (pa66_dataset[\"failure\"]==3)).dropna()\n",
    "\n",
    "# for ABS\n",
    "# abs_dataset = raw_dataset.loc[raw_dataset['material'] == \"ABS\"][[\"weight\", \"failure\"]].dropna()\n",
    "abs_dataset = raw_dataset.where(raw_dataset['material'] == \"ABS\").dropna()\n",
    "abs_dataset_positive = abs_dataset.where(abs_dataset[\"failure\"]==0).dropna()\n",
    "abs_dataset_negative = abs_dataset.where((abs_dataset[\"failure\"]==1) | (abs_dataset[\"failure\"]==2) | (abs_dataset[\"failure\"]==3)).dropna()\n",
    "\n",
    "# for PCSMOG\n",
    "#pcsmog_dataset = raw_dataset.loc[raw_dataset['material'] == \"PCSMOG\"][[\"weight\", \"failure\"]].dropna()\n",
    "pcsmog_dataset = raw_dataset.where(raw_dataset['material'] == \"PCSMOG\").dropna()\n",
    "pcsmog_dataset_positive = pcsmog_dataset.where(pcsmog_dataset[\"failure\"]==0).dropna()\n",
    "pcsmog_dataset_negative = pcsmog_dataset.where((pcsmog_dataset[\"failure\"]==1) | (pcsmog_dataset[\"failure\"]==2) | (pcsmog_dataset[\"failure\"]==3)).dropna()\n",
    "\n",
    "# for TPU\n",
    "#tpu_dataset = raw_dataset.loc[raw_dataset['material'] == \"TPU\"][[\"weight\", \"failure\"]].dropna()\n",
    "tpu_dataset = raw_dataset.where(raw_dataset['material'] == \"TPU\").dropna()\n",
    "tpu_dataset_positive = tpu_dataset.where(tpu_dataset[\"failure\"]==0).dropna()\n",
    "tpu_dataset_negative = tpu_dataset.where((tpu_dataset[\"failure\"]==1) | (tpu_dataset[\"failure\"]==2) | (tpu_dataset[\"failure\"]==3)).dropna()"
   ]
  },
  {
   "cell_type": "code",
   "execution_count": null,
   "metadata": {},
   "outputs": [],
   "source": []
  }
 ],
 "metadata": {
  "kernelspec": {
   "display_name": "Python 3.9.13 ('mold')",
   "language": "python",
   "name": "python3"
  },
  "language_info": {
   "name": "python",
   "version": "3.9.13"
  },
  "orig_nbformat": 4,
  "vscode": {
   "interpreter": {
    "hash": "e7e31d53b29ac03c70e6564e24649ef00af7fcb2034391a13c1f50db178a9e94"
   }
  }
 },
 "nbformat": 4,
 "nbformat_minor": 2
}
