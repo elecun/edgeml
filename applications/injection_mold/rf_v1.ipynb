{
 "cells": [
  {
   "cell_type": "code",
   "execution_count": 1,
   "metadata": {},
   "outputs": [
    {
     "ename": "ModuleNotFoundError",
     "evalue": "No module named 'sklearn'",
     "output_type": "error",
     "traceback": [
      "\u001b[0;31m---------------------------------------------------------------------------\u001b[0m",
      "\u001b[0;31mModuleNotFoundError\u001b[0m                       Traceback (most recent call last)",
      "Cell \u001b[0;32mIn [1], line 6\u001b[0m\n\u001b[1;32m      4\u001b[0m \u001b[39mimport\u001b[39;00m \u001b[39mnumpy\u001b[39;00m \u001b[39mas\u001b[39;00m \u001b[39mnp\u001b[39;00m\n\u001b[1;32m      5\u001b[0m \u001b[39mimport\u001b[39;00m \u001b[39mmatplotlib\u001b[39;00m\u001b[39m.\u001b[39;00m\u001b[39mpyplot\u001b[39;00m \u001b[39mas\u001b[39;00m \u001b[39mplt\u001b[39;00m\n\u001b[0;32m----> 6\u001b[0m \u001b[39mfrom\u001b[39;00m \u001b[39msklearn\u001b[39;00m\u001b[39m.\u001b[39;00m\u001b[39mmodel_selection\u001b[39;00m \u001b[39mimport\u001b[39;00m train_test_split\n\u001b[1;32m      7\u001b[0m \u001b[39mfrom\u001b[39;00m \u001b[39msklearn\u001b[39;00m\u001b[39m.\u001b[39;00m\u001b[39mensemble\u001b[39;00m \u001b[39mimport\u001b[39;00m RandomForestRegressor\n\u001b[1;32m      8\u001b[0m \u001b[39mfrom\u001b[39;00m \u001b[39msklearn\u001b[39;00m\u001b[39m.\u001b[39;00m\u001b[39mensemble\u001b[39;00m \u001b[39mimport\u001b[39;00m BaggingRegressor\n",
      "\u001b[0;31mModuleNotFoundError\u001b[0m: No module named 'sklearn'"
     ]
    }
   ],
   "source": [
    "#Data Load\n",
    "\n",
    "import pandas as pd\n",
    "import numpy as np\n",
    "import matplotlib.pyplot as plt\n",
    "from sklearn.model_selection import train_test_split\n",
    "from sklearn.ensemble import RandomForestRegressor\n",
    "from sklearn.ensemble import BaggingRegressor\n",
    "from sklearn.metrics import r2_score\n",
    "from sklearn.metrics import mean_squared_error\n",
    "from sklearn.metrics import mean_absolute_percentage_error\n",
    "from sklearn.model_selection import cross_val_score\n",
    "\n",
    "pd.set_option('display.max.colwidth', 50)\n",
    "pd.set_option('display.width', 1000)\n",
    "\n",
    "raw_dataset = pd.read_excel('../data/iae/injection_mold_5000.xlsx', header=0, index_col=False)\n",
    "print(\"* Raw dataset size : \", len(raw_dataset))\n",
    "\n",
    "dataset = raw_dataset[[\"weight\", \"failure\", \"set_nozzle_temperature\", \"set_front_temperature\", \"set_intermediate_temperature\", \"set_rear_temperature\", \"set_mold_velocity_1\", \"set_mold_velocity_2\", \"set_mold_velocity_3\", \"set_mold_velocity_4\", \"set_mold_velocity_5\", \"set_mold_pressure_1\", \"set_mold_pressure_2\", \"set_mold_pressure_3\", \"set_mold_pressure_4\", \"set_mold_pressure_5\", \"set_mold_position_1\", \"set_mold_position_2\", \"set_mold_position_3\", \"set_mold_position_4\", \"set_mold_position_5\", \"set_hold_velocity_1\", \"set_hold_velocity_2\", \"set_hold_velocity_3\", \"set_hold_pressure_1\", \"set_hold_pressure_2\", \"set_hold_pressure_3\"]]\n",
    "\n",
    "positive_set = dataset.where(dataset[\"failure\"]==0).dropna()\n",
    "print(\"Positive Data : \", len(positive_set))\n",
    "positive_X = positive_set[[\"set_nozzle_temperature\", \"set_front_temperature\", \"set_intermediate_temperature\", \"set_rear_temperature\", \"set_mold_velocity_1\", \"set_mold_velocity_2\", \"set_mold_velocity_3\", \"set_mold_velocity_4\", \"set_mold_velocity_5\", \"set_mold_pressure_1\", \"set_mold_pressure_2\", \"set_mold_pressure_3\", \"set_mold_pressure_4\", \"set_mold_pressure_5\", \"set_mold_position_1\", \"set_mold_position_2\", \"set_mold_position_3\", \"set_mold_position_4\", \"set_mold_position_5\", \"set_hold_velocity_1\", \"set_hold_velocity_2\", \"set_hold_velocity_3\", \"set_hold_pressure_1\", \"set_hold_pressure_2\", \"set_hold_pressure_3\"]]\n",
    "print(\"Positive X : \", len(positive_X))\n",
    "\n",
    "negative_set = dataset.where(dataset[\"failure\"]==1).dropna()\n",
    "print(\"Negative Data : \", len(negative_set))\n",
    "negative_X = negative_set[[\"set_nozzle_temperature\", \"set_front_temperature\", \"set_intermediate_temperature\", \"set_rear_temperature\", \"set_mold_velocity_1\", \"set_mold_velocity_2\", \"set_mold_velocity_3\", \"set_mold_velocity_4\", \"set_mold_velocity_5\", \"set_mold_pressure_1\", \"set_mold_pressure_2\", \"set_mold_pressure_3\", \"set_mold_pressure_4\", \"set_mold_pressure_5\", \"set_mold_position_1\", \"set_mold_position_2\", \"set_mold_position_3\", \"set_mold_position_4\", \"set_mold_position_5\", \"set_hold_velocity_1\", \"set_hold_velocity_2\", \"set_hold_velocity_3\", \"set_hold_pressure_1\", \"set_hold_pressure_2\", \"set_hold_pressure_3\"]]\n",
    "print(\"Negative X : \", len(negative_X))\n",
    "\n",
    "positive_y = positive_set[[\"weight\"]]\n",
    "print(\"Positive y : \", len(positive_y))\n",
    "negative_y = negative_set[[\"weight\"]]\n",
    "print(\"Negative y : \", len(negative_y))\n",
    "\n",
    "data_columns = positive_X.columns.to_numpy()"
   ]
  }
 ],
 "metadata": {
  "kernelspec": {
   "display_name": "Python 3.10.6 ('venv': venv)",
   "language": "python",
   "name": "python3"
  },
  "language_info": {
   "codemirror_mode": {
    "name": "ipython",
    "version": 3
   },
   "file_extension": ".py",
   "mimetype": "text/x-python",
   "name": "python",
   "nbconvert_exporter": "python",
   "pygments_lexer": "ipython3",
   "version": "3.10.6"
  },
  "orig_nbformat": 4,
  "vscode": {
   "interpreter": {
    "hash": "bb4e3ee96628bdcb8d49e714933f51997280733a3faa042f99295204e1111a11"
   }
  }
 },
 "nbformat": 4,
 "nbformat_minor": 2
}
